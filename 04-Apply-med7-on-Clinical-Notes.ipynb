{
  "nbformat": 4,
  "nbformat_minor": 0,
  "metadata": {
    "colab": {
      "provenance": []
    },
    "kernelspec": {
      "name": "python3",
      "display_name": "Python 3"
    },
    "language_info": {
      "name": "python"
    }
  },
  "cells": [
    {
      "cell_type": "code",
      "execution_count": null,
      "metadata": {
        "id": "BNLb74XdcWPP"
      },
      "outputs": [],
      "source": [
        "import pandas as pd\n",
        "import spacy\n",
        "\n",
        "med7 = spacy.load(\"en_core_med7_lg\")"
      ]
    },
    {
      "cell_type": "code",
      "source": [
        "preprocessed_df = pd.read_pickle(\"data/preprocessed_notes.p\")"
      ],
      "metadata": {
        "id": "cLFSqPWTceDc"
      },
      "execution_count": null,
      "outputs": []
    },
    {
      "cell_type": "code",
      "source": [
        "preprocessed_df['ner'] = None"
      ],
      "metadata": {
        "id": "O1bXzt1vctob"
      },
      "execution_count": null,
      "outputs": []
    },
    {
      "cell_type": "code",
      "source": [
        "count = 0\n",
        "preprocessed_index = {}\n",
        "for i in preprocessed_df.itertuples():\n",
        "\n",
        "    if count % 1000 == 0:\n",
        "        print(count)\n",
        "\n",
        "    count += 1\n",
        "    ind = i.Index\n",
        "    text = i.preprocessed_text\n",
        "\n",
        "    all_pred = []\n",
        "    for each_sent in text:\n",
        "        try:\n",
        "            doc = med7(each_sent)\n",
        "            result = ([(ent.text, ent.label_) for ent in doc.ents])\n",
        "            if len(result) == 0: continue\n",
        "            all_pred.append(result)\n",
        "        except:\n",
        "            print(\"error..\")\n",
        "            continue\n",
        "    preprocessed_df.at[ind, 'ner'] = all_pred"
      ],
      "metadata": {
        "id": "ADtUea6kcf6p"
      },
      "execution_count": null,
      "outputs": []
    },
    {
      "cell_type": "code",
      "source": [
        "pd.to_pickle(preprocessed_df, \"data/ner_df.p\")"
      ],
      "metadata": {
        "id": "BJwzpQyCcwDg"
      },
      "execution_count": null,
      "outputs": []
    }
  ]
}